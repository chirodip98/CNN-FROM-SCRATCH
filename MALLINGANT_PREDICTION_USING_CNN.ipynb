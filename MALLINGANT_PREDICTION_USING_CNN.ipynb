{
  "nbformat": 4,
  "nbformat_minor": 0,
  "metadata": {
    "colab": {
      "name": "MALLINGANT PREDICTION USING CNN",
      "version": "0.3.2",
      "provenance": [],
      "collapsed_sections": [],
      "machine_shape": "hm"
    },
    "kernelspec": {
      "name": "python3",
      "display_name": "Python 3"
    },
    "accelerator": "GPU"
  },
  "cells": [
    {
      "cell_type": "markdown",
      "metadata": {
        "id": "ra6W8U91W5Xq",
        "colab_type": "text"
      },
      "source": [
        "*`Author: Chirodip Lodh Choudhury\n",
        "email-chirodiplodh@gmail.com`*"
      ]
    },
    {
      "cell_type": "markdown",
      "metadata": {
        "id": "0xqtgEGvTC2R",
        "colab_type": "text"
      },
      "source": [
        "**LOADING DATASET FROM DRIVE**"
      ]
    },
    {
      "cell_type": "code",
      "metadata": {
        "id": "liO-UqrZQvTx",
        "colab_type": "code",
        "outputId": "3a72e817-af40-4828-ae97-70930bf5f221",
        "colab": {
          "base_uri": "https://localhost:8080/",
          "height": 131
        }
      },
      "source": [
        "from google.colab import drive\n",
        "drive.mount('/content/drive')"
      ],
      "execution_count": 1,
      "outputs": [
        {
          "output_type": "stream",
          "text": [
            "Go to this URL in a browser: https://accounts.google.com/o/oauth2/auth?client_id=947318989803-6bn6qk8qdgf4n4g3pfee6491hc0brc4i.apps.googleusercontent.com&redirect_uri=urn%3Aietf%3Awg%3Aoauth%3A2.0%3Aoob&scope=email%20https%3A%2F%2Fwww.googleapis.com%2Fauth%2Fdocs.test%20https%3A%2F%2Fwww.googleapis.com%2Fauth%2Fdrive%20https%3A%2F%2Fwww.googleapis.com%2Fauth%2Fdrive.photos.readonly%20https%3A%2F%2Fwww.googleapis.com%2Fauth%2Fpeopleapi.readonly&response_type=code\n",
            "\n",
            "Enter your authorization code:\n",
            "··········\n",
            "Mounted at /content/drive\n"
          ],
          "name": "stdout"
        }
      ]
    },
    {
      "cell_type": "markdown",
      "metadata": {
        "id": "fKkEghdLTQaE",
        "colab_type": "text"
      },
      "source": [
        "#**UNZIPPING THE IMAGE DATASET**"
      ]
    },
    {
      "cell_type": "code",
      "metadata": {
        "id": "JM3OqsqOReSZ",
        "colab_type": "code",
        "colab": {}
      },
      "source": [
        "!unzip '/content/drive/My Drive/brain-mri-images-for-brain-tumor-detection.zip'"
      ],
      "execution_count": 0,
      "outputs": []
    },
    {
      "cell_type": "markdown",
      "metadata": {
        "id": "Sd3A91hcT-lV",
        "colab_type": "text"
      },
      "source": [
        "# *Importing Necessary Libraries*"
      ]
    },
    {
      "cell_type": "code",
      "metadata": {
        "id": "Iq7U2kFxSIrO",
        "colab_type": "code",
        "colab": {}
      },
      "source": [
        "from os import *\n",
        "import os\n",
        "import cv2\n",
        "import keras\n",
        "from pathlib import Path\n",
        "from tqdm import tqdm\n",
        "import numpy as np\n",
        "import matplotlib.pyplot as plt \n",
        "%matplotlib inline\n",
        "\n",
        "\n",
        "\n",
        "\n",
        "p='/content/yes'\n",
        "p1='/content/no'"
      ],
      "execution_count": 0,
      "outputs": []
    },
    {
      "cell_type": "code",
      "metadata": {
        "id": "byopAK1EwGqA",
        "colab_type": "code",
        "colab": {}
      },
      "source": [
        "X = []\n",
        "Y = []"
      ],
      "execution_count": 0,
      "outputs": []
    },
    {
      "cell_type": "markdown",
      "metadata": {
        "id": "KCeOCv-3UQeX",
        "colab_type": "text"
      },
      "source": [
        "# *Loading of Image Datasets*\n",
        "here alongside, we are attaching a label ie. 1 or 0 with the images as this is a Supervised Approach"
      ]
    },
    {
      "cell_type": "code",
      "metadata": {
        "id": "y8s9iwnRTKBq",
        "colab_type": "code",
        "outputId": "c9353463-3800-4c02-8986-2fd4cad3854b",
        "colab": {
          "base_uri": "https://localhost:8080/",
          "height": 54
        }
      },
      "source": [
        "for name in tqdm(os.listdir(p)):\n",
        "  path = os.path.join(p, name) \n",
        "  _im_data=(cv2.imread(path,cv2.IMREAD_GRAYSCALE))\n",
        "  X.append(cv2.resize(_im_data,(310,366)))\n",
        "  Y.append([1])\n",
        "for name in tqdm(os.listdir(p1)):\n",
        "  path = os.path.join(p1, name)\n",
        "  _im_data1=(cv2.imread(path,cv2.IMREAD_GRAYSCALE))\n",
        "  X.append(cv2.resize(_im_data1,(310,366)))\n",
        "  Y.append([0])\n"
      ],
      "execution_count": 52,
      "outputs": [
        {
          "output_type": "stream",
          "text": [
            "100%|██████████| 155/155 [00:00<00:00, 574.11it/s]\n",
            "100%|██████████| 98/98 [00:00<00:00, 568.26it/s]\n"
          ],
          "name": "stderr"
        }
      ]
    },
    {
      "cell_type": "code",
      "metadata": {
        "id": "17LZlsIbUzAr",
        "colab_type": "code",
        "outputId": "36085824-7b72-4ee8-977d-646bcb3d6b3a",
        "colab": {
          "base_uri": "https://localhost:8080/",
          "height": 36
        }
      },
      "source": [
        "X = np.array(X)\n",
        "Y = np.array(Y)\n",
        "X = X.reshape((253,366,310, 1))\n",
        "# X = X.reshape((366, 310, 1, 253))\n",
        "#Y = Y.reshape((2, 125))\n",
        "X[0].shape, X.shape, Y.shape"
      ],
      "execution_count": 53,
      "outputs": [
        {
          "output_type": "execute_result",
          "data": {
            "text/plain": [
              "((366, 310, 1), (253, 366, 310, 1), (253, 1))"
            ]
          },
          "metadata": {
            "tags": []
          },
          "execution_count": 53
        }
      ]
    },
    {
      "cell_type": "code",
      "metadata": {
        "id": "5mUbhzesvkwd",
        "colab_type": "code",
        "outputId": "cb987c60-3f96-430f-c3fd-4ab712e9f440",
        "colab": {
          "base_uri": "https://localhost:8080/",
          "height": 36
        }
      },
      "source": [
        "from keras.utils import to_categorical\n",
        "Y=to_categorical(Y)\n",
        "type(Y)"
      ],
      "execution_count": 54,
      "outputs": [
        {
          "output_type": "execute_result",
          "data": {
            "text/plain": [
              "numpy.ndarray"
            ]
          },
          "metadata": {
            "tags": []
          },
          "execution_count": 54
        }
      ]
    },
    {
      "cell_type": "code",
      "metadata": {
        "id": "o7nSkaG1vx5o",
        "colab_type": "code",
        "outputId": "18155cf6-13b8-44c5-8766-874123894204",
        "colab": {
          "base_uri": "https://localhost:8080/",
          "height": 36
        }
      },
      "source": [
        "Y.shape"
      ],
      "execution_count": 55,
      "outputs": [
        {
          "output_type": "execute_result",
          "data": {
            "text/plain": [
              "(253, 2)"
            ]
          },
          "metadata": {
            "tags": []
          },
          "execution_count": 55
        }
      ]
    },
    {
      "cell_type": "markdown",
      "metadata": {
        "id": "Z8H_oC0uU2DG",
        "colab_type": "text"
      },
      "source": [
        "# Preparing Training and Testing Data for Training of our Model"
      ]
    },
    {
      "cell_type": "code",
      "metadata": {
        "id": "Eg9Q9MifFrZX",
        "colab_type": "code",
        "colab": {}
      },
      "source": [
        "from sklearn.model_selection import train_test_split\n",
        "x_train,x_test,y_train,y_test=train_test_split(X, Y)"
      ],
      "execution_count": 0,
      "outputs": []
    },
    {
      "cell_type": "code",
      "metadata": {
        "id": "5GAbEMCZU8eH",
        "colab_type": "code",
        "outputId": "afac0463-d1fb-4aab-d6ca-dbce517b8900",
        "colab": {
          "base_uri": "https://localhost:8080/",
          "height": 36
        }
      },
      "source": [
        "x_train.shape, y_train.shape, x_test.shape, y_test.shape"
      ],
      "execution_count": 60,
      "outputs": [
        {
          "output_type": "execute_result",
          "data": {
            "text/plain": [
              "((189, 366, 310, 1), (189, 2), (64, 366, 310, 1), (64, 2))"
            ]
          },
          "metadata": {
            "tags": []
          },
          "execution_count": 60
        }
      ]
    },
    {
      "cell_type": "code",
      "metadata": {
        "id": "kBeihoLWZfTv",
        "colab_type": "code",
        "colab": {}
      },
      "source": [
        "x_test=np.array(x_test)"
      ],
      "execution_count": 0,
      "outputs": []
    },
    {
      "cell_type": "markdown",
      "metadata": {
        "id": "EuUL2UTgVEcu",
        "colab_type": "text"
      },
      "source": [
        "# **Building The Model**\n",
        "\n",
        "### Here , we built a CNN model from scratch..."
      ]
    },
    {
      "cell_type": "code",
      "metadata": {
        "id": "e1e2HV6mVXNL",
        "colab_type": "code",
        "colab": {}
      },
      "source": [
        "from keras.models import Sequential\n",
        "from keras.layers import *\n",
        "\n",
        "model=Sequential()\n",
        "model.add(Conv2D(100,(2,2),input_shape=(366,310,1)))\n",
        "model.add(Activation('relu'))\n",
        "model.add(MaxPooling2D(pool_size=(3,3)))\n",
        "\n",
        "model.add(Conv2D(64,(2,2)))\n",
        "model.add(Activation('relu'))\n",
        "model.add(MaxPooling2D(pool_size=(3,3)))\n",
        "\n",
        "\n",
        "model.add(Conv2D(32,(2,2)))\n",
        "model.add(Activation('sigmoid'))\n",
        "model.add(MaxPooling2D(pool_size=(3,3)))\n",
        "\n",
        "\n",
        "model.add(Flatten())\n",
        "model.add(Dense(200))\n",
        "model.add(Activation('relu'))\n",
        "model.add(Dropout(0.5))\n",
        "model.add(Dense(2))\n",
        "model.add(Activation('softmax'))\n",
        "\n",
        "model.compile(loss=\"binary_crossentropy\",optimizer='adam',metrics=['accuracy'])"
      ],
      "execution_count": 0,
      "outputs": []
    },
    {
      "cell_type": "code",
      "metadata": {
        "id": "nZwA_MPwykN7",
        "colab_type": "code",
        "outputId": "1308e7df-243a-447a-ee8d-0ef07517dec4",
        "colab": {
          "base_uri": "https://localhost:8080/",
          "height": 729
        }
      },
      "source": [
        "model.summary()"
      ],
      "execution_count": 64,
      "outputs": [
        {
          "output_type": "stream",
          "text": [
            "Model: \"sequential_3\"\n",
            "_________________________________________________________________\n",
            "Layer (type)                 Output Shape              Param #   \n",
            "=================================================================\n",
            "conv2d_7 (Conv2D)            (None, 365, 309, 100)     500       \n",
            "_________________________________________________________________\n",
            "activation_11 (Activation)   (None, 365, 309, 100)     0         \n",
            "_________________________________________________________________\n",
            "max_pooling2d_7 (MaxPooling2 (None, 121, 103, 100)     0         \n",
            "_________________________________________________________________\n",
            "conv2d_8 (Conv2D)            (None, 120, 102, 64)      25664     \n",
            "_________________________________________________________________\n",
            "activation_12 (Activation)   (None, 120, 102, 64)      0         \n",
            "_________________________________________________________________\n",
            "max_pooling2d_8 (MaxPooling2 (None, 40, 34, 64)        0         \n",
            "_________________________________________________________________\n",
            "conv2d_9 (Conv2D)            (None, 39, 33, 32)        8224      \n",
            "_________________________________________________________________\n",
            "activation_13 (Activation)   (None, 39, 33, 32)        0         \n",
            "_________________________________________________________________\n",
            "max_pooling2d_9 (MaxPooling2 (None, 13, 11, 32)        0         \n",
            "_________________________________________________________________\n",
            "flatten_3 (Flatten)          (None, 4576)              0         \n",
            "_________________________________________________________________\n",
            "dense_5 (Dense)              (None, 200)               915400    \n",
            "_________________________________________________________________\n",
            "activation_14 (Activation)   (None, 200)               0         \n",
            "_________________________________________________________________\n",
            "dropout_3 (Dropout)          (None, 200)               0         \n",
            "_________________________________________________________________\n",
            "dense_6 (Dense)              (None, 2)                 402       \n",
            "_________________________________________________________________\n",
            "activation_15 (Activation)   (None, 2)                 0         \n",
            "=================================================================\n",
            "Total params: 950,190\n",
            "Trainable params: 950,190\n",
            "Non-trainable params: 0\n",
            "_________________________________________________________________\n"
          ],
          "name": "stdout"
        }
      ]
    },
    {
      "cell_type": "markdown",
      "metadata": {
        "id": "8IzWfiQQVbeo",
        "colab_type": "text"
      },
      "source": [
        "# The Model is Learning!!"
      ]
    },
    {
      "cell_type": "code",
      "metadata": {
        "id": "cG5pwt465Tuw",
        "colab_type": "code",
        "colab": {}
      },
      "source": [
        "model.fit(x_train,y_train,epochs=35)"
      ],
      "execution_count": 0,
      "outputs": []
    },
    {
      "cell_type": "code",
      "metadata": {
        "id": "IRwB_LgfrU0I",
        "colab_type": "code",
        "colab": {
          "base_uri": "https://localhost:8080/",
          "height": 36
        },
        "outputId": "f81a51eb-6388-4b25-a443-e94f1e7ad0c5"
      },
      "source": [
        "%matplotlib inline\n",
        "import matplotlib.pyplot as plt\n",
        "import matplotlib.image as mpimg\n",
        "\n",
        "test_image = x_test[21]\n",
        "test_image = test_image[:, :, 0]\n",
        "test_image.shape"
      ],
      "execution_count": 66,
      "outputs": [
        {
          "output_type": "execute_result",
          "data": {
            "text/plain": [
              "(366, 310)"
            ]
          },
          "metadata": {
            "tags": []
          },
          "execution_count": 66
        }
      ]
    },
    {
      "cell_type": "code",
      "metadata": {
        "id": "gwHF82lUBDs2",
        "colab_type": "code",
        "outputId": "f05918ac-3f8a-47e8-9a73-e0cbaebea48f",
        "colab": {
          "base_uri": "https://localhost:8080/",
          "height": 288
        }
      },
      "source": [
        "print(test_image.shape)\n",
        "imgplot = plt.imshow(test_image)\n",
        "\n",
        "test_image = np.array([test_image]).reshape((366, 310, 1))"
      ],
      "execution_count": 67,
      "outputs": [
        {
          "output_type": "stream",
          "text": [
            "(366, 310)\n"
          ],
          "name": "stdout"
        },
        {
          "output_type": "display_data",
          "data": {
            "image/png": "[encoded data removed]",
            "text/plain": [
              "<Figure size 432x288 with 1 Axes>"
            ]
          },
          "metadata": {
            "tags": []
          }
        }
      ]
    },
    {
      "cell_type": "markdown",
      "metadata": {
        "id": "qXJSBXxWV2s9",
        "colab_type": "text"
      },
      "source": [
        "# *Time for Prediction!!!*"
      ]
    },
    {
      "cell_type": "code",
      "metadata": {
        "id": "FbaE1o5id4MH",
        "colab_type": "code",
        "outputId": "ca6445a8-d39e-47df-f827-ee3399362cb5",
        "colab": {
          "base_uri": "https://localhost:8080/",
          "height": 36
        }
      },
      "source": [
        "prediction = model.predict(np.array([test_image]))\n",
        "#print(prediction)\n",
        "prediction_outcome = np.argmax(prediction) # np.argmax will select the \n",
        "                                           # maximum valued index from the prediction\n",
        "\n",
        "# the output \"prediction_outcome\" will be in integers... as of yes or no...\n",
        "\n",
        "if (prediction_outcome==1):\n",
        "  print(\"MALLINGANT\")\n",
        "else:\n",
        "  print(\"NON MALLINGANT\")\n"
      ],
      "execution_count": 69,
      "outputs": [
        {
          "output_type": "stream",
          "text": [
            "MALLINGANT\n"
          ],
          "name": "stdout"
        }
      ]
    },
    {
      "cell_type": "code",
      "metadata": {
        "id": "hgnUoqAJwTve",
        "colab_type": "code",
        "colab": {}
      },
      "source": [
        ""
      ],
      "execution_count": 0,
      "outputs": []
    },
    {
      "cell_type": "code",
      "metadata": {
        "id": "6Vhe9XWjRxUC",
        "colab_type": "code",
        "colab": {}
      },
      "source": [
        ""
      ],
      "execution_count": 0,
      "outputs": []
    }
  ]
}